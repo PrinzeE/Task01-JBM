{
 "cells": [
  {
   "cell_type": "code",
   "execution_count": 1,
   "id": "2c7443e2",
   "metadata": {},
   "outputs": [],
   "source": [
    "#Two numbers are entered through the keyboard. Write a program to find the value of one number raised to the power of another"
   ]
  },
  {
   "cell_type": "code",
   "execution_count": 5,
   "id": "b2432155",
   "metadata": {},
   "outputs": [
    {
     "name": "stdout",
     "output_type": "stream",
     "text": [
      "Enter a Number4\n",
      "Enter the Power of the 1st Number3\n",
      "4 raised to power 3 is 64\n"
     ]
    }
   ],
   "source": [
    "a=int(input(\"Enter a Number\"))\n",
    "b=int(input(\"Enter the Power of the 1st Number\"))\n",
    "print(a,\"raised to power\",b,\"is\",a**b)"
   ]
  },
  {
   "cell_type": "code",
   "execution_count": null,
   "id": "d8424385",
   "metadata": {},
   "outputs": [],
   "source": []
  }
 ],
 "metadata": {
  "kernelspec": {
   "display_name": "Python 3 (ipykernel)",
   "language": "python",
   "name": "python3"
  },
  "language_info": {
   "codemirror_mode": {
    "name": "ipython",
    "version": 3
   },
   "file_extension": ".py",
   "mimetype": "text/x-python",
   "name": "python",
   "nbconvert_exporter": "python",
   "pygments_lexer": "ipython3",
   "version": "3.9.13"
  }
 },
 "nbformat": 4,
 "nbformat_minor": 5
}
