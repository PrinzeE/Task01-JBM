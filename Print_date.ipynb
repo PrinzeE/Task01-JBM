{
 "cells": [
  {
   "cell_type": "code",
   "execution_count": 1,
   "id": "31a2f011",
   "metadata": {},
   "outputs": [],
   "source": [
    "#Write a Program that reads a strings from the user  containing a data in the form mm/dd/yyyy.\n",
    "#it should print the date in the form March12,2021."
   ]
  },
  {
   "cell_type": "code",
   "execution_count": 4,
   "id": "2aefd948",
   "metadata": {},
   "outputs": [
    {
     "name": "stdout",
     "output_type": "stream",
     "text": [
      "Enter a date(mm/dd/yyyy): 4/6/3\n",
      "April 6,3\n"
     ]
    }
   ],
   "source": [
    "date = input('Enter a date(mm/dd/yyyy): ')\n",
    "datelist = date.split('/')\n",
    "\n",
    "month = int(datelist[0])\n",
    "day = int(datelist[1])\n",
    "year = int(datelist[2])\n",
    "\n",
    "if month == 1:\n",
    "    month = 'January'\n",
    "elif month == 2:\n",
    "    month = 'February'\n",
    "elif month == 3:\n",
    "    month = 'March'\n",
    "elif month == 4:\n",
    "    month = 'April'\n",
    "elif month == 5:\n",
    "    month = 'May'\n",
    "elif month == 6:\n",
    "    month = 'June'\n",
    "elif month == 7:\n",
    "    month = 'July'\n",
    "elif month == 8:\n",
    "    month = 'August'\n",
    "elif month == 9:\n",
    "    month = 'September'\n",
    "elif month == 10:\n",
    "    month = 'October'\n",
    "elif month == 11:\n",
    "    month = 'November'\n",
    "elif month == 12:\n",
    "    month = 'December'\n",
    "    \n",
    "newdate = month + ' ' + str(day) + ',' + str(year) \n",
    "\n",
    "print(newdate)"
   ]
  }
 ],
 "metadata": {
  "kernelspec": {
   "display_name": "Python 3 (ipykernel)",
   "language": "python",
   "name": "python3"
  },
  "language_info": {
   "codemirror_mode": {
    "name": "ipython",
    "version": 3
   },
   "file_extension": ".py",
   "mimetype": "text/x-python",
   "name": "python",
   "nbconvert_exporter": "python",
   "pygments_lexer": "ipython3",
   "version": "3.9.13"
  }
 },
 "nbformat": 4,
 "nbformat_minor": 5
}
