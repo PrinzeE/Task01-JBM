{
 "cells": [
  {
   "cell_type": "code",
   "execution_count": 1,
   "id": "385a7a3f",
   "metadata": {},
   "outputs": [],
   "source": [
    "#Write a program that reads a string from keyboard and display:\n",
    "#The number of uppercase letters in the string\n",
    "#The number of lowercase letters in the string\n",
    "#The number of digits in the string\n",
    "#The number of whitespace characters in the string"
   ]
  },
  {
   "cell_type": "code",
   "execution_count": 3,
   "id": "c17b4f2b",
   "metadata": {},
   "outputs": [
    {
     "name": "stdout",
     "output_type": "stream",
     "text": [
      "Enter a string: Prince is Work in in JBM Group From Feb 03,2023\n",
      "The number of uppercase letters: 8\n",
      "The number of lowercase letters: 23\n",
      "The number of digits: 6\n",
      "The number of whitespace characters: 9\n"
     ]
    }
   ],
   "source": [
    "text = input('Enter a string: ')\n",
    "lower = upper = digit = space = 0\n",
    "\n",
    "for ch in text:\n",
    "    if ch.isupper():\n",
    "        upper += 1\n",
    "    elif ch.islower():\n",
    "        lower += 1\n",
    "    elif ch.isdigit():\n",
    "        digit += 1\n",
    "    elif ch == ' ':\n",
    "        space += 1\n",
    "\n",
    "print('The number of uppercase letters:', upper)\n",
    "print('The number of lowercase letters:', lower)\n",
    "print('The number of digits:', digit)\n",
    "print('The number of whitespace characters:', space)"
   ]
  },
  {
   "cell_type": "code",
   "execution_count": null,
   "id": "89452756",
   "metadata": {},
   "outputs": [],
   "source": []
  }
 ],
 "metadata": {
  "kernelspec": {
   "display_name": "Python 3 (ipykernel)",
   "language": "python",
   "name": "python3"
  },
  "language_info": {
   "codemirror_mode": {
    "name": "ipython",
    "version": 3
   },
   "file_extension": ".py",
   "mimetype": "text/x-python",
   "name": "python",
   "nbconvert_exporter": "python",
   "pygments_lexer": "ipython3",
   "version": "3.9.13"
  }
 },
 "nbformat": 4,
 "nbformat_minor": 5
}
