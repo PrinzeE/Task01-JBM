{
 "cells": [
  {
   "cell_type": "code",
   "execution_count": 1,
   "id": "f800d28e",
   "metadata": {},
   "outputs": [],
   "source": [
    "#Write a program with a function that accepts a string From keyboard and create a new string after converting character of each word capitalized\n",
    "#for instance. if the sentence is \"stop and smell the roses\" the output should be \"stop And Smell The Roses\""
   ]
  },
  {
   "cell_type": "code",
   "execution_count": 4,
   "id": "e9c87acf",
   "metadata": {},
   "outputs": [
    {
     "name": "stdout",
     "output_type": "stream",
     "text": [
      "Enter your sentence all smashed together: Prince Work In JBM GROUP\n",
      "Here your sentence written normally:\n",
      "PRINCE WORK IN JBM GROUP\n"
     ]
    }
   ],
   "source": [
    "sentence = input('Enter your sentence all smashed together: ')\n",
    "\n",
    "new_sentence = sentence[0]\n",
    "for ch in sentence[1:]:\n",
    "    if ch.islower():\n",
    "        new_sentence += (ch.upper())\n",
    "    else:\n",
    "        new_sentence += ch\n",
    " \n",
    "# Display the new string\n",
    "print('Here your sentence written normally:')\n",
    "print(new_sentence)"
   ]
  },
  {
   "cell_type": "code",
   "execution_count": null,
   "id": "48fa3fd8",
   "metadata": {},
   "outputs": [],
   "source": []
  },
  {
   "cell_type": "code",
   "execution_count": null,
   "id": "7398845c",
   "metadata": {},
   "outputs": [],
   "source": [
    "\n"
   ]
  }
 ],
 "metadata": {
  "kernelspec": {
   "display_name": "Python 3 (ipykernel)",
   "language": "python",
   "name": "python3"
  },
  "language_info": {
   "codemirror_mode": {
    "name": "ipython",
    "version": 3
   },
   "file_extension": ".py",
   "mimetype": "text/x-python",
   "name": "python",
   "nbconvert_exporter": "python",
   "pygments_lexer": "ipython3",
   "version": "3.9.13"
  }
 },
 "nbformat": 4,
 "nbformat_minor": 5
}
