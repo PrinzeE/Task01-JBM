{
 "cells": [
  {
   "cell_type": "code",
   "execution_count": 1,
   "id": "190e17c5",
   "metadata": {},
   "outputs": [],
   "source": [
    "#Write a program that prompts the user to input a number and reverse its digits.\n",
    "#For example, the reverse of 12345 is 54321; reverse of 5600 is 65"
   ]
  },
  {
   "cell_type": "code",
   "execution_count": 6,
   "id": "2f1c6ed4",
   "metadata": {},
   "outputs": [
    {
     "name": "stdout",
     "output_type": "stream",
     "text": [
      "Enter a positive integer: 78900\n",
      "Reverse of 78900 is 987\n"
     ]
    }
   ],
   "source": [
    "a = int(input(\"Enter a positive integer: \"))\n",
    "b = a\n",
    "c = 0\n",
    "while b>0:\n",
    "    digit = b%10\n",
    "    c= digit + c*10\n",
    "    b= int(b/10)\n",
    "print(\"Reverse of\",a,\"is\",c)"
   ]
  },
  {
   "cell_type": "code",
   "execution_count": null,
   "id": "13600ff5",
   "metadata": {},
   "outputs": [],
   "source": []
  }
 ],
 "metadata": {
  "kernelspec": {
   "display_name": "Python 3 (ipykernel)",
   "language": "python",
   "name": "python3"
  },
  "language_info": {
   "codemirror_mode": {
    "name": "ipython",
    "version": 3
   },
   "file_extension": ".py",
   "mimetype": "text/x-python",
   "name": "python",
   "nbconvert_exporter": "python",
   "pygments_lexer": "ipython3",
   "version": "3.9.13"
  }
 },
 "nbformat": 4,
 "nbformat_minor": 5
}
