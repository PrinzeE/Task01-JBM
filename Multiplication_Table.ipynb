{
 "cells": [
  {
   "cell_type": "code",
   "execution_count": 1,
   "id": "717ae3aa",
   "metadata": {},
   "outputs": [],
   "source": [
    "#Write a program that prompts the user to input a number and prints its mulitiplication table"
   ]
  },
  {
   "cell_type": "code",
   "execution_count": 1,
   "id": "45cb49a6",
   "metadata": {},
   "outputs": [
    {
     "name": "stdout",
     "output_type": "stream",
     "text": [
      "Enter a Positive Number8\n",
      "Multiplication Table of 8\n",
      "8 X 1 = 8\n",
      "8 X 2 = 16\n",
      "8 X 3 = 24\n",
      "8 X 4 = 32\n",
      "8 X 5 = 40\n",
      "8 X 6 = 48\n",
      "8 X 7 = 56\n",
      "8 X 8 = 64\n",
      "8 X 9 = 72\n",
      "8 X 10 = 80\n"
     ]
    }
   ],
   "source": [
    "num = int(input(\"Enter a Positive Number\"))\n",
    "print(\"Multiplication Table of\",num)\n",
    "for i in range(1,11):\n",
    "    print(num,\"X\",i,\"=\",num*i)   "
   ]
  },
  {
   "cell_type": "code",
   "execution_count": null,
   "id": "f38a5e03",
   "metadata": {},
   "outputs": [],
   "source": []
  }
 ],
 "metadata": {
  "kernelspec": {
   "display_name": "Python 3 (ipykernel)",
   "language": "python",
   "name": "python3"
  },
  "language_info": {
   "codemirror_mode": {
    "name": "ipython",
    "version": 3
   },
   "file_extension": ".py",
   "mimetype": "text/x-python",
   "name": "python",
   "nbconvert_exporter": "python",
   "pygments_lexer": "ipython3",
   "version": "3.9.13"
  }
 },
 "nbformat": 4,
 "nbformat_minor": 5
}
