{
 "cells": [
  {
   "cell_type": "code",
   "execution_count": 4,
   "id": "dc5e6365",
   "metadata": {},
   "outputs": [
    {
     "name": "stdout",
     "output_type": "stream",
     "text": [
      "Enter a positive integer: 12\n",
      "Sum of natural numbers upto 12 is 78\n"
     ]
    }
   ],
   "source": [
    "#Write a program that asks the user for a positive integer value. The program should calculate the sum of all the integers from 1 up to the number entered.\n",
    "#For example, if the user enters 20, the loop will find the sum of 1, 2, 3, 4, ... 20\n",
    "\n",
    "num = int(input(\"Enter a positive integer: \"))\n",
    "sum = 0\n",
    "for i in range(1,num+1):\n",
    "    sum+=i\n",
    "print(\"Sum of natural numbers upto\",num,\"is\",sum)"
   ]
  },
  {
   "cell_type": "code",
   "execution_count": null,
   "id": "38aa1d52",
   "metadata": {},
   "outputs": [],
   "source": []
  }
 ],
 "metadata": {
  "kernelspec": {
   "display_name": "Python 3 (ipykernel)",
   "language": "python",
   "name": "python3"
  },
  "language_info": {
   "codemirror_mode": {
    "name": "ipython",
    "version": 3
   },
   "file_extension": ".py",
   "mimetype": "text/x-python",
   "name": "python",
   "nbconvert_exporter": "python",
   "pygments_lexer": "ipython3",
   "version": "3.9.13"
  }
 },
 "nbformat": 4,
 "nbformat_minor": 5
}
