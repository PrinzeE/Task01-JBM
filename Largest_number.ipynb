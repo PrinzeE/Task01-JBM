{
 "cells": [
  {
   "cell_type": "code",
   "execution_count": 1,
   "id": "9e6f9333",
   "metadata": {},
   "outputs": [
    {
     "name": "stdout",
     "output_type": "stream",
     "text": [
      "How many elements you want to enter? 7\n",
      "Enter 7 positive numbers\n"
     ]
    }
   ],
   "source": [
    "#find and display the largest number of a list without using built-in function max() . your Program Should ask the User To input values in list from Keyboard\n",
    "mylist = []\n",
    "size = int(input('How many elements you want to enter? '))\n",
    "print('Enter',str(size),'positive numbers')\n"
   ]
  },
  {
   "cell_type": "code",
   "execution_count": 3,
   "id": "174cea0b",
   "metadata": {},
   "outputs": [
    {
     "name": "stdout",
     "output_type": "stream",
     "text": [
      "5\n",
      "2\n",
      "6\n",
      "8\n",
      "4\n",
      "1\n",
      "9\n"
     ]
    }
   ],
   "source": [
    "for i in range(size):\n",
    "    data = int(input())\n",
    "    mylist.append(data)"
   ]
  },
  {
   "cell_type": "code",
   "execution_count": 4,
   "id": "3fd921c6",
   "metadata": {},
   "outputs": [
    {
     "name": "stdout",
     "output_type": "stream",
     "text": [
      "The largest number in list is 9\n"
     ]
    }
   ],
   "source": [
    "max = 0\n",
    "for data in mylist:\n",
    "    if data > max:\n",
    "        max = data\n",
    "\n",
    "print('The largest number in list is', max)"
   ]
  },
  {
   "cell_type": "code",
   "execution_count": null,
   "id": "c6603673",
   "metadata": {},
   "outputs": [],
   "source": [
    "\n",
    "\n",
    "\n"
   ]
  }
 ],
 "metadata": {
  "kernelspec": {
   "display_name": "Python 3 (ipykernel)",
   "language": "python",
   "name": "python3"
  },
  "language_info": {
   "codemirror_mode": {
    "name": "ipython",
    "version": 3
   },
   "file_extension": ".py",
   "mimetype": "text/x-python",
   "name": "python",
   "nbconvert_exporter": "python",
   "pygments_lexer": "ipython3",
   "version": "3.9.13"
  }
 },
 "nbformat": 4,
 "nbformat_minor": 5
}
