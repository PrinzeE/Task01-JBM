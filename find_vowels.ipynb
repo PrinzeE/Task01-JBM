{
 "cells": [
  {
   "cell_type": "code",
   "execution_count": 1,
   "id": "c212638b",
   "metadata": {},
   "outputs": [],
   "source": [
    "#Write a function, is_vowel that returns the value true if a given character is a vowel, and otherwise returns false.\n",
    "#Write another function main, in main() function accept a string from user and count number of vowels in that string"
   ]
  },
  {
   "cell_type": "code",
   "execution_count": 2,
   "id": "3d57287a",
   "metadata": {},
   "outputs": [
    {
     "name": "stdout",
     "output_type": "stream",
     "text": [
      "Enter a text: Prince is a Good Boy\n",
      "Number of vowels are 7\n"
     ]
    }
   ],
   "source": [
    "def is_vowel(letter):\n",
    "    if letter in 'aeiouAEIOU':\n",
    "        return True\n",
    "    else:\n",
    "        return False\n",
    "\n",
    "def main():\n",
    "    count = 0\n",
    "    string = input('Enter a text: ')\n",
    "    for ch in string:\n",
    "        if(is_vowel(ch)):\n",
    "            count += 1\n",
    "\n",
    "    print('Number of vowels are', count)\n",
    "\n",
    "main()"
   ]
  },
  {
   "cell_type": "code",
   "execution_count": null,
   "id": "a3695833",
   "metadata": {},
   "outputs": [],
   "source": []
  }
 ],
 "metadata": {
  "kernelspec": {
   "display_name": "Python 3 (ipykernel)",
   "language": "python",
   "name": "python3"
  },
  "language_info": {
   "codemirror_mode": {
    "name": "ipython",
    "version": 3
   },
   "file_extension": ".py",
   "mimetype": "text/x-python",
   "name": "python",
   "nbconvert_exporter": "python",
   "pygments_lexer": "ipython3",
   "version": "3.9.13"
  }
 },
 "nbformat": 4,
 "nbformat_minor": 5
}
