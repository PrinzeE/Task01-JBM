{
 "cells": [
  {
   "cell_type": "code",
   "execution_count": 1,
   "id": "ce416f0b",
   "metadata": {},
   "outputs": [],
   "source": [
    "#write a program that input a string and ask user to delete a given word from a string."
   ]
  },
  {
   "cell_type": "code",
   "execution_count": 5,
   "id": "9b6d2e51",
   "metadata": {},
   "outputs": [
    {
     "name": "stdout",
     "output_type": "stream",
     "text": [
      "Enter a string: Prince is doing internship at JBM Group\n",
      "Enter a word to delete: Group\n"
     ]
    }
   ],
   "source": [
    "text = input('Enter a string: ')\n",
    "words = text.split()\n",
    "\n",
    "data = input('Enter a word to delete: ')\n",
    "status = False\n",
    "\n",
    "for word in words:\n",
    "    if word == data:\n",
    "        words.remove(word)\n",
    "        status = True"
   ]
  },
  {
   "cell_type": "code",
   "execution_count": 8,
   "id": "34d5f11f",
   "metadata": {},
   "outputs": [
    {
     "name": "stdout",
     "output_type": "stream",
     "text": [
      "String after deletion: Prince is doing internship at JBM\n"
     ]
    }
   ],
   "source": [
    "if status:\n",
    "    text = ' '.join(words)\n",
    "    print('String after deletion:',text)\n",
    "else:\n",
    "    print('Word not present in string.')"
   ]
  },
  {
   "cell_type": "code",
   "execution_count": null,
   "id": "cd533054",
   "metadata": {},
   "outputs": [],
   "source": []
  }
 ],
 "metadata": {
  "kernelspec": {
   "display_name": "Python 3 (ipykernel)",
   "language": "python",
   "name": "python3"
  },
  "language_info": {
   "codemirror_mode": {
    "name": "ipython",
    "version": 3
   },
   "file_extension": ".py",
   "mimetype": "text/x-python",
   "name": "python",
   "nbconvert_exporter": "python",
   "pygments_lexer": "ipython3",
   "version": "3.9.13"
  }
 },
 "nbformat": 4,
 "nbformat_minor": 5
}
