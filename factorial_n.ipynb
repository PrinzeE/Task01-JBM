{
 "cells": [
  {
   "cell_type": "code",
   "execution_count": 1,
   "id": "afd7a981",
   "metadata": {},
   "outputs": [],
   "source": [
    "#Write a program that prompts the user to input a number and prints its factorial\n",
    "#The factorial of an integer n is defined as n! = 1 x 2 x 3 x ... x n; if n > 0 = 1; if n = 0 For instance, 6!\n",
    "#can be calculated as 1 x 2 x 3 x 4 x 5 x 6."
   ]
  },
  {
   "cell_type": "code",
   "execution_count": 2,
   "id": "6df3cfcc",
   "metadata": {},
   "outputs": [
    {
     "name": "stdout",
     "output_type": "stream",
     "text": [
      "Enter a positive number: 7\n",
      "Factorial of 7 is 5040\n"
     ]
    }
   ],
   "source": [
    "num = int(input(\"Enter a positive number: \"))\n",
    "fact=1\n",
    "i=num\n",
    "while i>1:\n",
    "    fact=fact*i\n",
    "    i=i-1\n",
    "print(\"Factorial of\",num,\"is\",fact)"
   ]
  },
  {
   "cell_type": "code",
   "execution_count": null,
   "id": "d5713ff8",
   "metadata": {},
   "outputs": [],
   "source": []
  }
 ],
 "metadata": {
  "kernelspec": {
   "display_name": "Python 3 (ipykernel)",
   "language": "python",
   "name": "python3"
  },
  "language_info": {
   "codemirror_mode": {
    "name": "ipython",
    "version": 3
   },
   "file_extension": ".py",
   "mimetype": "text/x-python",
   "name": "python",
   "nbconvert_exporter": "python",
   "pygments_lexer": "ipython3",
   "version": "3.9.13"
  }
 },
 "nbformat": 4,
 "nbformat_minor": 5
}
