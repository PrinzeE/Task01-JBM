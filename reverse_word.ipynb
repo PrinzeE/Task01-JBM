{
 "cells": [
  {
   "cell_type": "code",
   "execution_count": 1,
   "id": "373b3346",
   "metadata": {},
   "outputs": [],
   "source": [
    "# Write a Python program that accepts a string from user.\n",
    "#Your program should create a new string in reverse of first string and display it.\n",
    "#For example if the user enters the string 'EXAM' then new string would be 'MAXE'"
   ]
  },
  {
   "cell_type": "code",
   "execution_count": 2,
   "id": "fd4c59d7",
   "metadata": {},
   "outputs": [
    {
     "name": "stdout",
     "output_type": "stream",
     "text": [
      "Enter a string: Third Eye\n",
      "New string: eyE drihT\n"
     ]
    }
   ],
   "source": [
    "text = input('Enter a string: ')\n",
    "newtext = text[::-1]\n",
    "print('New string:', newtext)"
   ]
  },
  {
   "cell_type": "code",
   "execution_count": null,
   "id": "634ac94b",
   "metadata": {},
   "outputs": [],
   "source": []
  }
 ],
 "metadata": {
  "kernelspec": {
   "display_name": "Python 3 (ipykernel)",
   "language": "python",
   "name": "python3"
  },
  "language_info": {
   "codemirror_mode": {
    "name": "ipython",
    "version": 3
   },
   "file_extension": ".py",
   "mimetype": "text/x-python",
   "name": "python",
   "nbconvert_exporter": "python",
   "pygments_lexer": "ipython3",
   "version": "3.9.13"
  }
 },
 "nbformat": 4,
 "nbformat_minor": 5
}
