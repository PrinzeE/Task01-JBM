{
 "cells": [
  {
   "cell_type": "code",
   "execution_count": 1,
   "id": "49f031aa",
   "metadata": {},
   "outputs": [],
   "source": [
    "#Write a program that prompts the user to input a decimal integer and display its binary equivalent"
   ]
  },
  {
   "cell_type": "code",
   "execution_count": 3,
   "id": "c0ef4f7f",
   "metadata": {},
   "outputs": [
    {
     "name": "stdout",
     "output_type": "stream",
     "text": [
      "Enter a positive number: 12345\n",
      "Binary representaion of 12345 is 11000000111001\n"
     ]
    }
   ],
   "source": [
    "number = int(input(\"Enter a positive number: \"))\n",
    "binary = 0\n",
    "place = 1\n",
    "n = number\n",
    "while n>0:\n",
    "    remainder = int(n % 2)\n",
    "    binary = binary + remainder * place\n",
    "    place = place*10\n",
    "    n = n/2\n",
    "print(\"Binary representaion of\",number,\"is\",binary)"
   ]
  },
  {
   "cell_type": "code",
   "execution_count": null,
   "id": "68104fe8",
   "metadata": {},
   "outputs": [],
   "source": []
  }
 ],
 "metadata": {
  "kernelspec": {
   "display_name": "Python 3 (ipykernel)",
   "language": "python",
   "name": "python3"
  },
  "language_info": {
   "codemirror_mode": {
    "name": "ipython",
    "version": 3
   },
   "file_extension": ".py",
   "mimetype": "text/x-python",
   "name": "python",
   "nbconvert_exporter": "python",
   "pygments_lexer": "ipython3",
   "version": "3.9.13"
  }
 },
 "nbformat": 4,
 "nbformat_minor": 5
}
