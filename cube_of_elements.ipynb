{
 "cells": [
  {
   "cell_type": "code",
   "execution_count": 1,
   "id": "cddefdc2",
   "metadata": {},
   "outputs": [],
   "source": [
    "#Write a function in python to find the sum of the cube of elements in a list.\n",
    "#The list is received as an argument to the function, in turn,\n",
    "#the function must return the sum. Write the main function which invokes the above function"
   ]
  },
  {
   "cell_type": "code",
   "execution_count": 3,
   "id": "c8cc3ab3",
   "metadata": {},
   "outputs": [
    {
     "name": "stdout",
     "output_type": "stream",
     "text": [
      "1323\n"
     ]
    }
   ],
   "source": [
    "def sum(numbers):\n",
    "    total = 0\n",
    "    for n in numbers:\n",
    "        total += n**3\n",
    "    return total\n",
    "\n",
    "def main():\n",
    "    numbers = [2,7,6,3,9]\n",
    "    s = sum(numbers)\n",
    "    print(s)\n",
    "\n",
    "main()"
   ]
  },
  {
   "cell_type": "code",
   "execution_count": null,
   "id": "67db9852",
   "metadata": {},
   "outputs": [],
   "source": []
  }
 ],
 "metadata": {
  "kernelspec": {
   "display_name": "Python 3 (ipykernel)",
   "language": "python",
   "name": "python3"
  },
  "language_info": {
   "codemirror_mode": {
    "name": "ipython",
    "version": 3
   },
   "file_extension": ".py",
   "mimetype": "text/x-python",
   "name": "python",
   "nbconvert_exporter": "python",
   "pygments_lexer": "ipython3",
   "version": "3.9.13"
  }
 },
 "nbformat": 4,
 "nbformat_minor": 5
}
