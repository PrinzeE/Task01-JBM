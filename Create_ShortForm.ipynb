{
 "cells": [
  {
   "cell_type": "code",
   "execution_count": 1,
   "id": "f30a86a0",
   "metadata": {},
   "outputs": [],
   "source": [
    "#Write a program that asks the user to input his name and print its initials.\n",
    "#Assuming that the user always types first name, middle name and last name and does not include any unnecessary spaces."
   ]
  },
  {
   "cell_type": "code",
   "execution_count": 4,
   "id": "8c062575",
   "metadata": {},
   "outputs": [
    {
     "name": "stdout",
     "output_type": "stream",
     "text": [
      "Enter a string: Third Eye AI\n",
      "New string: T. E. A.\n"
     ]
    }
   ],
   "source": [
    "text = input('Enter a string: ')\n",
    "#index of first space\n",
    "space1 = text.find(' ')\n",
    "#index of second space\n",
    "space2 = text.find(' ',space1+1)\n",
    "newtext = text[0] +'. '  + text[space1+1] +'. ' + text[space2+1] +'.'\n",
    "print('New string:', newtext)"
   ]
  },
  {
   "cell_type": "code",
   "execution_count": null,
   "id": "fb5b75ba",
   "metadata": {},
   "outputs": [],
   "source": []
  }
 ],
 "metadata": {
  "kernelspec": {
   "display_name": "Python 3 (ipykernel)",
   "language": "python",
   "name": "python3"
  },
  "language_info": {
   "codemirror_mode": {
    "name": "ipython",
    "version": 3
   },
   "file_extension": ".py",
   "mimetype": "text/x-python",
   "name": "python",
   "nbconvert_exporter": "python",
   "pygments_lexer": "ipython3",
   "version": "3.9.13"
  }
 },
 "nbformat": 4,
 "nbformat_minor": 5
}
