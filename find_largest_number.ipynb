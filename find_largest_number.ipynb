{
 "cells": [
  {
   "cell_type": "code",
   "execution_count": 1,
   "id": "54816687",
   "metadata": {},
   "outputs": [],
   "source": [
    "#Write a function find_max that accepts three numbers as arguments and returns the largest number among three.\n",
    "#Write another function main, in main() function accept three numbers from user and call find_max"
   ]
  },
  {
   "cell_type": "code",
   "execution_count": 3,
   "id": "31132321",
   "metadata": {},
   "outputs": [
    {
     "name": "stdout",
     "output_type": "stream",
     "text": [
      "Enter first number 9\n",
      "Enter second number 3\n",
      "Enter third number 66\n",
      "Largest number is 66\n"
     ]
    }
   ],
   "source": [
    "def find_max(x, y, z):\n",
    "    if x > y and x > z:\n",
    "        return x\n",
    "    elif y > z:\n",
    "        return y\n",
    "    else:\n",
    "        return z\n",
    "\n",
    "def main():\n",
    "    a = int(input('Enter first number '))\n",
    "    b = int(input('Enter second number '))\n",
    "    c = int(input('Enter third number '))\n",
    "    largest = find_max(a, b, c)\n",
    "    print('Largest number is', largest)\n",
    "\n",
    "main()"
   ]
  },
  {
   "cell_type": "code",
   "execution_count": null,
   "id": "7bcb2c79",
   "metadata": {},
   "outputs": [],
   "source": []
  }
 ],
 "metadata": {
  "kernelspec": {
   "display_name": "Python 3 (ipykernel)",
   "language": "python",
   "name": "python3"
  },
  "language_info": {
   "codemirror_mode": {
    "name": "ipython",
    "version": 3
   },
   "file_extension": ".py",
   "mimetype": "text/x-python",
   "name": "python",
   "nbconvert_exporter": "python",
   "pygments_lexer": "ipython3",
   "version": "3.9.13"
  }
 },
 "nbformat": 4,
 "nbformat_minor": 5
}
