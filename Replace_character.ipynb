{
 "cells": [
  {
   "cell_type": "code",
   "execution_count": 1,
   "id": "9e24368f",
   "metadata": {},
   "outputs": [],
   "source": [
    "#Write a Python program that accepts a string from user.\n",
    "#Your program should create and display a new string where the first and last characters have been exchanged"
   ]
  },
  {
   "cell_type": "code",
   "execution_count": 14,
   "id": "d41ec086",
   "metadata": {},
   "outputs": [
    {
     "name": "stdout",
     "output_type": "stream",
     "text": [
      "Enter a string: Moon\n",
      "nooM\n"
     ]
    }
   ],
   "source": [
    "text = input('Enter a string: ')\n",
    "def change_string(text):\n",
    "      return text[-1:] + text[1:-1] + text[:1]\n",
    "print(change_string(text))"
   ]
  },
  {
   "cell_type": "code",
   "execution_count": null,
   "id": "8facb61d",
   "metadata": {},
   "outputs": [],
   "source": []
  }
 ],
 "metadata": {
  "kernelspec": {
   "display_name": "Python 3 (ipykernel)",
   "language": "python",
   "name": "python3"
  },
  "language_info": {
   "codemirror_mode": {
    "name": "ipython",
    "version": 3
   },
   "file_extension": ".py",
   "mimetype": "text/x-python",
   "name": "python",
   "nbconvert_exporter": "python",
   "pygments_lexer": "ipython3",
   "version": "3.9.13"
  }
 },
 "nbformat": 4,
 "nbformat_minor": 5
}
