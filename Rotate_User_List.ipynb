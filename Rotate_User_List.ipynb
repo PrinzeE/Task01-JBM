{
 "cells": [
  {
   "cell_type": "code",
   "execution_count": 1,
   "id": "5139b768",
   "metadata": {},
   "outputs": [],
   "source": [
    "#write a program that rotates the element of a list so that the element at the first index moves to the second index the element in the second index moves to the third index, etc., and the element in the last index moves to the first index"
   ]
  },
  {
   "cell_type": "code",
   "execution_count": 2,
   "id": "6382c7f0",
   "metadata": {},
   "outputs": [
    {
     "name": "stdout",
     "output_type": "stream",
     "text": [
      "How many elements you want to enter? 5\n",
      "Enter 5 positive numbers\n"
     ]
    }
   ],
   "source": [
    "mylist = []\n",
    "size = int(input('How many elements you want to enter? '))\n",
    "print('Enter',str(size),'positive numbers')"
   ]
  },
  {
   "cell_type": "code",
   "execution_count": 3,
   "id": "4937374e",
   "metadata": {},
   "outputs": [
    {
     "name": "stdout",
     "output_type": "stream",
     "text": [
      "6\n",
      "4\n",
      "7\n",
      "8\n",
      "3\n"
     ]
    }
   ],
   "source": [
    "for i in range(size):\n",
    "    data = int(input())\n",
    "    mylist.append(data)"
   ]
  },
  {
   "cell_type": "code",
   "execution_count": 4,
   "id": "96099d19",
   "metadata": {},
   "outputs": [
    {
     "name": "stdout",
     "output_type": "stream",
     "text": [
      "Rotated List\n",
      "[3, 6, 4, 7, 8]\n"
     ]
    }
   ],
   "source": [
    "mylist = mylist[-1:] + mylist[:-1]\n",
    "\n",
    "print(\"Rotated List\")\n",
    "print(mylist)"
   ]
  },
  {
   "cell_type": "code",
   "execution_count": null,
   "id": "aa8d62e5",
   "metadata": {},
   "outputs": [],
   "source": []
  }
 ],
 "metadata": {
  "kernelspec": {
   "display_name": "Python 3 (ipykernel)",
   "language": "python",
   "name": "python3"
  },
  "language_info": {
   "codemirror_mode": {
    "name": "ipython",
    "version": 3
   },
   "file_extension": ".py",
   "mimetype": "text/x-python",
   "name": "python",
   "nbconvert_exporter": "python",
   "pygments_lexer": "ipython3",
   "version": "3.9.13"
  }
 },
 "nbformat": 4,
 "nbformat_minor": 5
}
