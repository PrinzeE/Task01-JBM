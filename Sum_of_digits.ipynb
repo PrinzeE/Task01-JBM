{
 "cells": [
  {
   "cell_type": "code",
   "execution_count": 1,
   "id": "18ff63cb",
   "metadata": {},
   "outputs": [],
   "source": [
    "#Write a program that asks the user to input a positive integer.\n",
    "#Your program should find and display the sum of digits of number.\n",
    "#For example, sum of digits of number 32518 is 3+2+5+1+8 = 19."
   ]
  },
  {
   "cell_type": "code",
   "execution_count": 3,
   "id": "bf244b20",
   "metadata": {},
   "outputs": [
    {
     "name": "stdout",
     "output_type": "stream",
     "text": [
      "Enter a positive integer: 67584\n",
      "Sum of digits of 67584 is 30\n"
     ]
    }
   ],
   "source": [
    "num = int(input(\"Enter a positive integer: \"))\n",
    "temp = num\n",
    "sum = 0\n",
    "while temp>0:\n",
    "    digit = temp%10\n",
    "    sum=sum+digit\n",
    "    temp= int(temp/10)\n",
    "print(\"Sum of digits of\",num,\"is\",sum)"
   ]
  },
  {
   "cell_type": "code",
   "execution_count": null,
   "id": "cefb9c64",
   "metadata": {},
   "outputs": [],
   "source": []
  }
 ],
 "metadata": {
  "kernelspec": {
   "display_name": "Python 3 (ipykernel)",
   "language": "python",
   "name": "python3"
  },
  "language_info": {
   "codemirror_mode": {
    "name": "ipython",
    "version": 3
   },
   "file_extension": ".py",
   "mimetype": "text/x-python",
   "name": "python",
   "nbconvert_exporter": "python",
   "pygments_lexer": "ipython3",
   "version": "3.9.13"
  }
 },
 "nbformat": 4,
 "nbformat_minor": 5
}
