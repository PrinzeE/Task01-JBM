{
 "cells": [
  {
   "cell_type": "code",
   "execution_count": 1,
   "id": "98a5bae6",
   "metadata": {},
   "outputs": [],
   "source": [
    "#A palindromic number is a number that remains the same when its digits are reversed.\n",
    "#For example, 16461. Write a program that prompts the user to input a number and determine whether the number is palindrome or not"
   ]
  },
  {
   "cell_type": "code",
   "execution_count": 11,
   "id": "234707c2",
   "metadata": {},
   "outputs": [
    {
     "name": "stdout",
     "output_type": "stream",
     "text": [
      "Enter a Positive Number 12321\n",
      "12321  is Palindromic Number\n"
     ]
    }
   ],
   "source": [
    "a = int(input(\"Enter a Positive Number \"))\n",
    "b = a\n",
    "rev_a=0\n",
    "while b>0:\n",
    "    digit = b%10\n",
    "    rev_a= digit + rev_a*10\n",
    "    b= int(b/10)\n",
    "if a==rev_a:\n",
    "    print(a,\" is Palindromic Number\")\n",
    "else :\n",
    "    print(a,\" is not a Palindromic Number\")\n",
    "\n"
   ]
  },
  {
   "cell_type": "code",
   "execution_count": null,
   "id": "fad16469",
   "metadata": {},
   "outputs": [],
   "source": []
  }
 ],
 "metadata": {
  "kernelspec": {
   "display_name": "Python 3 (ipykernel)",
   "language": "python",
   "name": "python3"
  },
  "language_info": {
   "codemirror_mode": {
    "name": "ipython",
    "version": 3
   },
   "file_extension": ".py",
   "mimetype": "text/x-python",
   "name": "python",
   "nbconvert_exporter": "python",
   "pygments_lexer": "ipython3",
   "version": "3.9.13"
  }
 },
 "nbformat": 4,
 "nbformat_minor": 5
}
