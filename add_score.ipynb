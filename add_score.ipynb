{
 "cells": [
  {
   "cell_type": "code",
   "execution_count": 1,
   "id": "963cc4cb",
   "metadata": {},
   "outputs": [],
   "source": [
    "# Write the definition of a function zero_ending(scores) to add all those values in the list of scores,\n",
    "#which are ending with zero and display the sum.\n",
    "#For example: If the scores contain [200, 456, 300, 100, 234, 678] The sum should be displayed as 600."
   ]
  },
  {
   "cell_type": "code",
   "execution_count": 4,
   "id": "9671965a",
   "metadata": {},
   "outputs": [
    {
     "name": "stdout",
     "output_type": "stream",
     "text": [
      "600\n"
     ]
    }
   ],
   "source": [
    "def zero_ending(scores):\n",
    "    total = 0\n",
    "    for number in scores:\n",
    "        if number%10 == 0:\n",
    "            total += number\n",
    "    return total\n",
    "\n",
    "scores =  [200, 456, 300, 100, 234, 678]\n",
    "s = zero_ending(scores)\n",
    "print(s)"
   ]
  },
  {
   "cell_type": "code",
   "execution_count": null,
   "id": "2e150799",
   "metadata": {},
   "outputs": [],
   "source": []
  }
 ],
 "metadata": {
  "kernelspec": {
   "display_name": "Python 3 (ipykernel)",
   "language": "python",
   "name": "python3"
  },
  "language_info": {
   "codemirror_mode": {
    "name": "ipython",
    "version": 3
   },
   "file_extension": ".py",
   "mimetype": "text/x-python",
   "name": "python",
   "nbconvert_exporter": "python",
   "pygments_lexer": "ipython3",
   "version": "3.9.13"
  }
 },
 "nbformat": 4,
 "nbformat_minor": 5
}
