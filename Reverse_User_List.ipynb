{
 "cells": [
  {
   "cell_type": "code",
   "execution_count": 1,
   "id": "f6c94fca",
   "metadata": {},
   "outputs": [],
   "source": [
    "#Write a Program That accept a list from user. Your program Should reverse the content of list and display it. Do Not use reverse() method. "
   ]
  },
  {
   "cell_type": "code",
   "execution_count": 2,
   "id": "bdcbbd65",
   "metadata": {},
   "outputs": [
    {
     "name": "stdout",
     "output_type": "stream",
     "text": [
      "How Many Elements Do You Want To Enter?7\n",
      "enter 7 Elements\n"
     ]
    }
   ],
   "source": [
    "MyList = []\n",
    "Size = int(input(\"How Many Elements Do You Want To Enter?\"))\n",
    "print(\"enter\", str(Size),\"Elements\")"
   ]
  },
  {
   "cell_type": "code",
   "execution_count": 3,
   "id": "930ba14c",
   "metadata": {},
   "outputs": [
    {
     "name": "stdout",
     "output_type": "stream",
     "text": [
      "1\n",
      "3\n",
      "5\n",
      "4\n",
      "3\n",
      "6\n",
      "7\n"
     ]
    }
   ],
   "source": [
    "for i in range(Size):\n",
    "    data = int(input())\n",
    "    MyList.append(data)"
   ]
  },
  {
   "cell_type": "code",
   "execution_count": 5,
   "id": "c6a7229b",
   "metadata": {},
   "outputs": [
    {
     "name": "stdout",
     "output_type": "stream",
     "text": [
      "Reverse list: [7, 6, 3, 4, 5, 3, 1]\n"
     ]
    }
   ],
   "source": [
    "#reverse the list\n",
    "for i in range(Size//2):\n",
    "    #swapping elements\n",
    "    MyList[i],MyList[len(MyList)-1-i] = MyList[len(MyList)-1-i], MyList[i]\n",
    "print('Reverse list:', MyList)"
   ]
  },
  {
   "cell_type": "code",
   "execution_count": null,
   "id": "89c41c4a",
   "metadata": {},
   "outputs": [],
   "source": []
  }
 ],
 "metadata": {
  "kernelspec": {
   "display_name": "Python 3 (ipykernel)",
   "language": "python",
   "name": "python3"
  },
  "language_info": {
   "codemirror_mode": {
    "name": "ipython",
    "version": 3
   },
   "file_extension": ".py",
   "mimetype": "text/x-python",
   "name": "python",
   "nbconvert_exporter": "python",
   "pygments_lexer": "ipython3",
   "version": "3.9.13"
  }
 },
 "nbformat": 4,
 "nbformat_minor": 5
}
