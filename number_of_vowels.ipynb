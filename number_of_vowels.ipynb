{
 "cells": [
  {
   "cell_type": "code",
   "execution_count": 1,
   "id": "1039f1fc",
   "metadata": {},
   "outputs": [],
   "source": [
    "#Write a program that accepts a string from user. Your program should count and display number of vowels in that string."
   ]
  },
  {
   "cell_type": "code",
   "execution_count": 3,
   "id": "974344d0",
   "metadata": {},
   "outputs": [
    {
     "name": "stdout",
     "output_type": "stream",
     "text": [
      "Enter a string: Prince Kumar\n",
      "No of vowels are 4\n"
     ]
    }
   ],
   "source": [
    "text = input('Enter a string: ')\n",
    "vowel = 0\n",
    "\n",
    "for ch in text:\n",
    "    if ch in 'aeiouAEIOU':\n",
    "        vowel += 1\n",
    "\n",
    "print('No of vowels are', vowel)"
   ]
  },
  {
   "cell_type": "code",
   "execution_count": null,
   "id": "ebe7eabb",
   "metadata": {},
   "outputs": [],
   "source": []
  }
 ],
 "metadata": {
  "kernelspec": {
   "display_name": "Python 3 (ipykernel)",
   "language": "python",
   "name": "python3"
  },
  "language_info": {
   "codemirror_mode": {
    "name": "ipython",
    "version": 3
   },
   "file_extension": ".py",
   "mimetype": "text/x-python",
   "name": "python",
   "nbconvert_exporter": "python",
   "pygments_lexer": "ipython3",
   "version": "3.9.13"
  }
 },
 "nbformat": 4,
 "nbformat_minor": 5
}
